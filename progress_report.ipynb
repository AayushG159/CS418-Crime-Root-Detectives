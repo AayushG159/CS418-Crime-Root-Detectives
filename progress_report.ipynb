{
 "cells": [
  {
   "cell_type": "markdown",
   "metadata": {},
   "source": [
    "# Why does crime happen in Chicago? - Progress Report"
   ]
  },
  {
   "cell_type": "markdown",
   "metadata": {},
   "source": [
    "## Intro\n",
    "\n",
    "Our project revolves around the study of crime data in Chicago in 2022 to find out more about how safe the city is. We will examine whether the presence of alcohol establishments, primary schools, and law enforcement sentiment influences crime rates in different neighborhoods. In our view, understanding these relationships can facilitate development of specific strategies for reducing crime and making communities safer. Additionally, our research examines predictive analytics using machine learning which predicts possible future crimes based on factors such as: location, time, specifics (eg - neighborhoods). This study is aimed at offering insights to police departments and urban planners to better deploy their resources before the crimes occur. Moreover, we conduct an in-depth analysis of arrest data with a view to finding out patterns that exist across various types of crimes. Through this investigation, law enforcement practices will be informed, while intervention strategies will be improved upon for greater effectiveness. Thus, we aim to offer insights that can be put into action towards ensuring overall safety and well-being for all residents in Chicago."
   ]
  },
  {
   "cell_type": "markdown",
   "metadata": {},
   "source": [
    "## Changes since the proposal\n",
    "\n",
    "One of the issues we faced was finding socio-economic data. The data that we found was limited and included past info, ie, from 2008 to 2012. Since we wanted to do a more recent analysis, we switched this subpart of the problem to alcohol establishments, which aims to see if there is a correlation between the crimes occurring in an area with the presence of such alcohol establishments. Another issue we ran into was how large the main dataset, Crimes Occurred in Chicago, was and thus we decided to look more deeply into the relations between crime and other factors for Chicago 2022, instead of looking from a high level across the years."
   ]
  },
  {
   "cell_type": "markdown",
   "metadata": {},
   "source": [
    "## Data\n",
    "\n",
    "1. **<u>Crimes Occurred</u>** - The dataset is a list of any and all crimes committed from 2001 till present date. Since the dataset was huge, we extracted past year (2022) data from Chicago Data portal to look at relations between various factors affecting crime rate. Certain column types were changed, missing values were dropped, new columns were created. All this occurred as and when needed during EDA and visulization of our hypothesis such as 'What are the type 5 crimes committed per district?' and 'Is there a correlation between the type of crime committed and offender being arrested?' etc.\n",
    "2. **<u>Arrests</u>** - This dataset provides a comprehensive overview of law enforcement arrest records from 2014 to 2023, encompassing unique identifiers for each case, precise arrest dates and times, and demographic details of the individuals arrested, such as race, age, and gender. It includes in-depth charge information, categorising offenses into types and classes and providing specific statute numbers. Out of these attributes, race and charge_type were used to figure out the trends of arrests. Column names were modified to remove the spaces and to making the casing consistent. Additional fields were derived from existing fields such as year for convenience. Data cleaning wasn’t required as there weren’t any NaN values in the attributes of interest.\n",
    "3. **<u>Public Schools Progress Report</u>** - It provides information about a variety of aspects in Elementary, Middle, and High schools in Chicago. From this, we first extracted the information that was relevant in our case. Information about the type of school, location setting of the school, how supportive the environment is and how safe the school is are important factors that we are taking into consideration when evaluating what causes crime in various Chicago neighborhoods. We have also looked at how the attendance levels of teachers and students and the suspension rates change with how safe the school is perceived which will further provide insights into factors that are affected by crime in Chicago.\n",
    "4. **<u>Police Sentiment Scores</u>** - Utilizing the Sodapy API, I imported sentiment data from the Chicago Police database, which includes information on safety and trust scores among different racial groups in neighborhoods. Also includes varoius classifications based on age, gender,income,respect .The data was segmented based on the respective collection years, and column data types were modified for better representation. A thorough data cleaning process was undertaken, addressing and managing any null values encountered in the dataset to enhance its reliability.\n",
    "5. **<u>Alcohol Establishments</u>** - The Socrata library was used to get the data from the cityofchicago website. First, unneccessary columns were filtered out from the table, then the alcohol establishment locations were determined using the type of license and the rows were filtered out to include only these locations. We further had to clean the data so that the latitude and longitude were not null and were of type float to be able to be passed to the spatial plots."
   ]
  },
  {
   "cell_type": "markdown",
   "metadata": {},
   "source": [
    "## Exploratatory Data Analysis"
   ]
  }
 ],
 "metadata": {
  "kernelspec": {
   "display_name": "Python 3 (ipykernel)",
   "language": "python",
   "name": "python3"
  }
 },
 "nbformat": 4,
 "nbformat_minor": 2
}
